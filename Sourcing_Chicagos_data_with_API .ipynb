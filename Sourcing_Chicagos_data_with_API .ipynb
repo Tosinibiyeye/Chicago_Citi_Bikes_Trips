{
 "cells": [
  {
   "cell_type": "markdown",
   "id": "dce5399c-2683-4229-aebb-923f9e5d9cf6",
   "metadata": {},
   "source": [
    "# Importing needed Lib"
   ]
  },
  {
   "cell_type": "code",
   "execution_count": 1,
   "id": "0e00e9fd-13ce-41fe-b4e2-5aca20a82529",
   "metadata": {},
   "outputs": [],
   "source": [
    "import pandas as pd\n",
    "import numpy as np\n",
    "import os\n",
    "import requests\n",
    "import json\n",
    "from datetime import datetim"
   ]
  },
  {
   "cell_type": "code",
   "execution_count": 2,
   "id": "3fff0cd9-a91a-4a91-b238-7c7731c844b4",
   "metadata": {},
   "outputs": [],
   "source": [
    "folderpath = r\"C:\\Users\\TOSIN\\Github repo\\Data_1\"  # Update this path to your new folder path"
   ]
  },
  {
   "cell_type": "code",
   "execution_count": 3,
   "id": "65285f11-0075-4b15-82bf-2730e43190b6",
   "metadata": {},
   "outputs": [
    {
     "data": {
      "text/plain": [
       "'C:\\\\Users\\\\TOSIN\\\\Github repo\\\\Data_1'"
      ]
     },
     "execution_count": 3,
     "metadata": {},
     "output_type": "execute_result"
    }
   ],
   "source": [
    "folderpath"
   ]
  },
  {
   "cell_type": "code",
   "execution_count": 4,
   "id": "9b21c276-81b7-4cd0-8a53-e946cbcfd1b4",
   "metadata": {},
   "outputs": [],
   "source": [
    "# Create a list with all files in the folder using a list comprehension\n",
    "\n",
    "folderpath = r\"C:\\\\Users\\\\TOSIN\\\\Github repo\\\\Data_1\"  # Update this path to your new folder path\n",
    "\n",
    "filepaths = [os.path.join(folderpath, name) for name in os.listdir(folderpath)]"
   ]
  },
  {
   "cell_type": "code",
   "execution_count": 5,
   "id": "392972d0-6fe1-4f1b-a098-9d52af3fbc94",
   "metadata": {},
   "outputs": [
    {
     "data": {
      "text/plain": [
       "['C:\\\\\\\\Users\\\\\\\\TOSIN\\\\\\\\Github repo\\\\\\\\Data_1\\\\Divvy_Trips_2018_Q1.csv',\n",
       " 'C:\\\\\\\\Users\\\\\\\\TOSIN\\\\\\\\Github repo\\\\\\\\Data_1\\\\Divvy_Trips_2018_Q2.csv',\n",
       " 'C:\\\\\\\\Users\\\\\\\\TOSIN\\\\\\\\Github repo\\\\\\\\Data_1\\\\Divvy_Trips_2018_Q3.csv',\n",
       " 'C:\\\\\\\\Users\\\\\\\\TOSIN\\\\\\\\Github repo\\\\\\\\Data_1\\\\Divvy_Trips_2018_Q4.csv']"
      ]
     },
     "execution_count": 5,
     "metadata": {},
     "output_type": "execute_result"
    }
   ],
   "source": [
    "filepaths"
   ]
  },
  {
   "cell_type": "code",
   "execution_count": 6,
   "id": "569efb6e-dfea-48c3-b306-bd4421b76289",
   "metadata": {},
   "outputs": [],
   "source": [
    "# Read and concatenate all files simultaneously\n",
    "\n",
    "df = pd.concat((pd.read_csv(f) for f in filepaths), ignore_index = True)"
   ]
  },
  {
   "cell_type": "code",
   "execution_count": 7,
   "id": "75c0290a-4a18-4e08-93c6-976cee930a85",
   "metadata": {},
   "outputs": [
    {
     "data": {
      "text/html": [
       "<div>\n",
       "<style scoped>\n",
       "    .dataframe tbody tr th:only-of-type {\n",
       "        vertical-align: middle;\n",
       "    }\n",
       "\n",
       "    .dataframe tbody tr th {\n",
       "        vertical-align: top;\n",
       "    }\n",
       "\n",
       "    .dataframe thead th {\n",
       "        text-align: right;\n",
       "    }\n",
       "</style>\n",
       "<table border=\"1\" class=\"dataframe\">\n",
       "  <thead>\n",
       "    <tr style=\"text-align: right;\">\n",
       "      <th></th>\n",
       "      <th>trip_id</th>\n",
       "      <th>start_time</th>\n",
       "      <th>end_time</th>\n",
       "      <th>bikeid</th>\n",
       "      <th>tripduration</th>\n",
       "      <th>from_station_id</th>\n",
       "      <th>from_station_name</th>\n",
       "      <th>to_station_id</th>\n",
       "      <th>to_station_name</th>\n",
       "      <th>usertype</th>\n",
       "      <th>gender</th>\n",
       "      <th>birthyear</th>\n",
       "    </tr>\n",
       "  </thead>\n",
       "  <tbody>\n",
       "    <tr>\n",
       "      <th>0</th>\n",
       "      <td>17536702</td>\n",
       "      <td>2018-01-01 00:12:00</td>\n",
       "      <td>2018-01-01 00:17:23</td>\n",
       "      <td>3304</td>\n",
       "      <td>323.0</td>\n",
       "      <td>69</td>\n",
       "      <td>Damen Ave &amp; Pierce Ave</td>\n",
       "      <td>159</td>\n",
       "      <td>Claremont Ave &amp; Hirsch St</td>\n",
       "      <td>Subscriber</td>\n",
       "      <td>Male</td>\n",
       "      <td>1988.0</td>\n",
       "    </tr>\n",
       "    <tr>\n",
       "      <th>1</th>\n",
       "      <td>17536703</td>\n",
       "      <td>2018-01-01 00:41:35</td>\n",
       "      <td>2018-01-01 00:47:52</td>\n",
       "      <td>5367</td>\n",
       "      <td>377.0</td>\n",
       "      <td>253</td>\n",
       "      <td>Winthrop Ave &amp; Lawrence Ave</td>\n",
       "      <td>325</td>\n",
       "      <td>Clark St &amp; Winnemac Ave (Temp)</td>\n",
       "      <td>Subscriber</td>\n",
       "      <td>Male</td>\n",
       "      <td>1984.0</td>\n",
       "    </tr>\n",
       "    <tr>\n",
       "      <th>2</th>\n",
       "      <td>17536704</td>\n",
       "      <td>2018-01-01 00:44:46</td>\n",
       "      <td>2018-01-01 01:33:10</td>\n",
       "      <td>4599</td>\n",
       "      <td>2,904.0</td>\n",
       "      <td>98</td>\n",
       "      <td>LaSalle St &amp; Washington St</td>\n",
       "      <td>509</td>\n",
       "      <td>Troy St &amp; North Ave</td>\n",
       "      <td>Subscriber</td>\n",
       "      <td>Male</td>\n",
       "      <td>1989.0</td>\n",
       "    </tr>\n",
       "    <tr>\n",
       "      <th>3</th>\n",
       "      <td>17536705</td>\n",
       "      <td>2018-01-01 00:53:10</td>\n",
       "      <td>2018-01-01 01:05:37</td>\n",
       "      <td>2302</td>\n",
       "      <td>747.0</td>\n",
       "      <td>125</td>\n",
       "      <td>Rush St &amp; Hubbard St</td>\n",
       "      <td>364</td>\n",
       "      <td>Larrabee St &amp; Oak St</td>\n",
       "      <td>Subscriber</td>\n",
       "      <td>Male</td>\n",
       "      <td>1983.0</td>\n",
       "    </tr>\n",
       "    <tr>\n",
       "      <th>4</th>\n",
       "      <td>17536706</td>\n",
       "      <td>2018-01-01 00:53:37</td>\n",
       "      <td>2018-01-01 00:56:40</td>\n",
       "      <td>3696</td>\n",
       "      <td>183.0</td>\n",
       "      <td>129</td>\n",
       "      <td>Blue Island Ave &amp; 18th St</td>\n",
       "      <td>205</td>\n",
       "      <td>Paulina St &amp; 18th St</td>\n",
       "      <td>Subscriber</td>\n",
       "      <td>Male</td>\n",
       "      <td>1989.0</td>\n",
       "    </tr>\n",
       "  </tbody>\n",
       "</table>\n",
       "</div>"
      ],
      "text/plain": [
       "    trip_id           start_time             end_time  bikeid tripduration  \\\n",
       "0  17536702  2018-01-01 00:12:00  2018-01-01 00:17:23    3304        323.0   \n",
       "1  17536703  2018-01-01 00:41:35  2018-01-01 00:47:52    5367        377.0   \n",
       "2  17536704  2018-01-01 00:44:46  2018-01-01 01:33:10    4599      2,904.0   \n",
       "3  17536705  2018-01-01 00:53:10  2018-01-01 01:05:37    2302        747.0   \n",
       "4  17536706  2018-01-01 00:53:37  2018-01-01 00:56:40    3696        183.0   \n",
       "\n",
       "   from_station_id            from_station_name  to_station_id  \\\n",
       "0               69       Damen Ave & Pierce Ave            159   \n",
       "1              253  Winthrop Ave & Lawrence Ave            325   \n",
       "2               98   LaSalle St & Washington St            509   \n",
       "3              125         Rush St & Hubbard St            364   \n",
       "4              129    Blue Island Ave & 18th St            205   \n",
       "\n",
       "                  to_station_name    usertype gender  birthyear  \n",
       "0       Claremont Ave & Hirsch St  Subscriber   Male     1988.0  \n",
       "1  Clark St & Winnemac Ave (Temp)  Subscriber   Male     1984.0  \n",
       "2             Troy St & North Ave  Subscriber   Male     1989.0  \n",
       "3            Larrabee St & Oak St  Subscriber   Male     1983.0  \n",
       "4            Paulina St & 18th St  Subscriber   Male     1989.0  "
      ]
     },
     "execution_count": 7,
     "metadata": {},
     "output_type": "execute_result"
    }
   ],
   "source": [
    "df.head()"
   ]
  },
  {
   "cell_type": "code",
   "execution_count": 8,
   "id": "66c38468-6600-4823-852b-03d426c1f7ef",
   "metadata": {},
   "outputs": [
    {
     "data": {
      "text/plain": [
       "(3603082, 12)"
      ]
     },
     "execution_count": 8,
     "metadata": {},
     "output_type": "execute_result"
    }
   ],
   "source": [
    "df.shape"
   ]
  },
  {
   "cell_type": "code",
   "execution_count": 9,
   "id": "5e99105c-9cf1-41e9-805b-476ce3918782",
   "metadata": {},
   "outputs": [
    {
     "data": {
      "text/plain": [
       "trip_id                int64\n",
       "start_time            object\n",
       "end_time              object\n",
       "bikeid                 int64\n",
       "tripduration          object\n",
       "from_station_id        int64\n",
       "from_station_name     object\n",
       "to_station_id          int64\n",
       "to_station_name       object\n",
       "usertype              object\n",
       "gender                object\n",
       "birthyear            float64\n",
       "dtype: object"
      ]
     },
     "execution_count": 9,
     "metadata": {},
     "output_type": "execute_result"
    }
   ],
   "source": [
    "df.dtypes"
   ]
  },
  {
   "cell_type": "code",
   "execution_count": 10,
   "id": "0bc5ba3c-3c52-4b24-abff-24ce4fe84d09",
   "metadata": {},
   "outputs": [],
   "source": [
    "# Convert start_time to datetime if not already\n",
    "df['start_time'] = pd.to_datetime(df['start_time'])"
   ]
  },
  {
   "cell_type": "code",
   "execution_count": 11,
   "id": "0cec040a-3b8b-41c9-8c71-956b9a79b86b",
   "metadata": {},
   "outputs": [],
   "source": [
    "# Extract the date part and create a new column 'date'\n",
    "df['date'] = df['start_time'].dt.date"
   ]
  },
  {
   "cell_type": "code",
   "execution_count": 12,
   "id": "d05967a3-a5ab-406a-84c4-8d070b159822",
   "metadata": {},
   "outputs": [
    {
     "data": {
      "text/plain": [
       "trip_id                       int64\n",
       "start_time           datetime64[ns]\n",
       "end_time                     object\n",
       "bikeid                        int64\n",
       "tripduration                 object\n",
       "from_station_id               int64\n",
       "from_station_name            object\n",
       "to_station_id                 int64\n",
       "to_station_name              object\n",
       "usertype                     object\n",
       "gender                       object\n",
       "birthyear                   float64\n",
       "date                         object\n",
       "dtype: object"
      ]
     },
     "execution_count": 12,
     "metadata": {},
     "output_type": "execute_result"
    }
   ],
   "source": [
    "df.dtypes"
   ]
  },
  {
   "cell_type": "code",
   "execution_count": 13,
   "id": "416d1087-828b-4f71-941c-0c8c11065540",
   "metadata": {},
   "outputs": [],
   "source": [
    "# Convert the 'date' column to datetime\n",
    "df['date'] = pd.to_datetime(df['date'])"
   ]
  },
  {
   "cell_type": "code",
   "execution_count": 14,
   "id": "ef3480b0-37ee-424b-8911-44a459cebd87",
   "metadata": {},
   "outputs": [
    {
     "data": {
      "text/plain": [
       "trip_id                       int64\n",
       "start_time           datetime64[ns]\n",
       "end_time                     object\n",
       "bikeid                        int64\n",
       "tripduration                 object\n",
       "from_station_id               int64\n",
       "from_station_name            object\n",
       "to_station_id                 int64\n",
       "to_station_name              object\n",
       "usertype                     object\n",
       "gender                       object\n",
       "birthyear                   float64\n",
       "date                 datetime64[ns]\n",
       "dtype: object"
      ]
     },
     "execution_count": 14,
     "metadata": {},
     "output_type": "execute_result"
    }
   ],
   "source": [
    "df.dtypes"
   ]
  },
  {
   "cell_type": "code",
   "execution_count": 15,
   "id": "bbccd390-a1df-4c01-8ffd-350837358c0d",
   "metadata": {},
   "outputs": [
    {
     "data": {
      "text/html": [
       "<div>\n",
       "<style scoped>\n",
       "    .dataframe tbody tr th:only-of-type {\n",
       "        vertical-align: middle;\n",
       "    }\n",
       "\n",
       "    .dataframe tbody tr th {\n",
       "        vertical-align: top;\n",
       "    }\n",
       "\n",
       "    .dataframe thead th {\n",
       "        text-align: right;\n",
       "    }\n",
       "</style>\n",
       "<table border=\"1\" class=\"dataframe\">\n",
       "  <thead>\n",
       "    <tr style=\"text-align: right;\">\n",
       "      <th></th>\n",
       "      <th>trip_id</th>\n",
       "      <th>start_time</th>\n",
       "      <th>end_time</th>\n",
       "      <th>bikeid</th>\n",
       "      <th>tripduration</th>\n",
       "      <th>from_station_id</th>\n",
       "      <th>from_station_name</th>\n",
       "      <th>to_station_id</th>\n",
       "      <th>to_station_name</th>\n",
       "      <th>usertype</th>\n",
       "      <th>gender</th>\n",
       "      <th>birthyear</th>\n",
       "      <th>date</th>\n",
       "    </tr>\n",
       "  </thead>\n",
       "  <tbody>\n",
       "    <tr>\n",
       "      <th>0</th>\n",
       "      <td>17536702</td>\n",
       "      <td>2018-01-01 00:12:00</td>\n",
       "      <td>2018-01-01 00:17:23</td>\n",
       "      <td>3304</td>\n",
       "      <td>323.0</td>\n",
       "      <td>69</td>\n",
       "      <td>Damen Ave &amp; Pierce Ave</td>\n",
       "      <td>159</td>\n",
       "      <td>Claremont Ave &amp; Hirsch St</td>\n",
       "      <td>Subscriber</td>\n",
       "      <td>Male</td>\n",
       "      <td>1988.0</td>\n",
       "      <td>2018-01-01</td>\n",
       "    </tr>\n",
       "    <tr>\n",
       "      <th>1</th>\n",
       "      <td>17536703</td>\n",
       "      <td>2018-01-01 00:41:35</td>\n",
       "      <td>2018-01-01 00:47:52</td>\n",
       "      <td>5367</td>\n",
       "      <td>377.0</td>\n",
       "      <td>253</td>\n",
       "      <td>Winthrop Ave &amp; Lawrence Ave</td>\n",
       "      <td>325</td>\n",
       "      <td>Clark St &amp; Winnemac Ave (Temp)</td>\n",
       "      <td>Subscriber</td>\n",
       "      <td>Male</td>\n",
       "      <td>1984.0</td>\n",
       "      <td>2018-01-01</td>\n",
       "    </tr>\n",
       "    <tr>\n",
       "      <th>2</th>\n",
       "      <td>17536704</td>\n",
       "      <td>2018-01-01 00:44:46</td>\n",
       "      <td>2018-01-01 01:33:10</td>\n",
       "      <td>4599</td>\n",
       "      <td>2,904.0</td>\n",
       "      <td>98</td>\n",
       "      <td>LaSalle St &amp; Washington St</td>\n",
       "      <td>509</td>\n",
       "      <td>Troy St &amp; North Ave</td>\n",
       "      <td>Subscriber</td>\n",
       "      <td>Male</td>\n",
       "      <td>1989.0</td>\n",
       "      <td>2018-01-01</td>\n",
       "    </tr>\n",
       "    <tr>\n",
       "      <th>3</th>\n",
       "      <td>17536705</td>\n",
       "      <td>2018-01-01 00:53:10</td>\n",
       "      <td>2018-01-01 01:05:37</td>\n",
       "      <td>2302</td>\n",
       "      <td>747.0</td>\n",
       "      <td>125</td>\n",
       "      <td>Rush St &amp; Hubbard St</td>\n",
       "      <td>364</td>\n",
       "      <td>Larrabee St &amp; Oak St</td>\n",
       "      <td>Subscriber</td>\n",
       "      <td>Male</td>\n",
       "      <td>1983.0</td>\n",
       "      <td>2018-01-01</td>\n",
       "    </tr>\n",
       "    <tr>\n",
       "      <th>4</th>\n",
       "      <td>17536706</td>\n",
       "      <td>2018-01-01 00:53:37</td>\n",
       "      <td>2018-01-01 00:56:40</td>\n",
       "      <td>3696</td>\n",
       "      <td>183.0</td>\n",
       "      <td>129</td>\n",
       "      <td>Blue Island Ave &amp; 18th St</td>\n",
       "      <td>205</td>\n",
       "      <td>Paulina St &amp; 18th St</td>\n",
       "      <td>Subscriber</td>\n",
       "      <td>Male</td>\n",
       "      <td>1989.0</td>\n",
       "      <td>2018-01-01</td>\n",
       "    </tr>\n",
       "  </tbody>\n",
       "</table>\n",
       "</div>"
      ],
      "text/plain": [
       "    trip_id          start_time             end_time  bikeid tripduration  \\\n",
       "0  17536702 2018-01-01 00:12:00  2018-01-01 00:17:23    3304        323.0   \n",
       "1  17536703 2018-01-01 00:41:35  2018-01-01 00:47:52    5367        377.0   \n",
       "2  17536704 2018-01-01 00:44:46  2018-01-01 01:33:10    4599      2,904.0   \n",
       "3  17536705 2018-01-01 00:53:10  2018-01-01 01:05:37    2302        747.0   \n",
       "4  17536706 2018-01-01 00:53:37  2018-01-01 00:56:40    3696        183.0   \n",
       "\n",
       "   from_station_id            from_station_name  to_station_id  \\\n",
       "0               69       Damen Ave & Pierce Ave            159   \n",
       "1              253  Winthrop Ave & Lawrence Ave            325   \n",
       "2               98   LaSalle St & Washington St            509   \n",
       "3              125         Rush St & Hubbard St            364   \n",
       "4              129    Blue Island Ave & 18th St            205   \n",
       "\n",
       "                  to_station_name    usertype gender  birthyear       date  \n",
       "0       Claremont Ave & Hirsch St  Subscriber   Male     1988.0 2018-01-01  \n",
       "1  Clark St & Winnemac Ave (Temp)  Subscriber   Male     1984.0 2018-01-01  \n",
       "2             Troy St & North Ave  Subscriber   Male     1989.0 2018-01-01  \n",
       "3            Larrabee St & Oak St  Subscriber   Male     1983.0 2018-01-01  \n",
       "4            Paulina St & 18th St  Subscriber   Male     1989.0 2018-01-01  "
      ]
     },
     "execution_count": 15,
     "metadata": {},
     "output_type": "execute_result"
    }
   ],
   "source": [
    "df. head()"
   ]
  },
  {
   "cell_type": "code",
   "execution_count": 17,
   "id": "84189de1-51c8-4785-bc1b-54671b1244c8",
   "metadata": {},
   "outputs": [],
   "source": [
    "# Load the dataset from a CSV file\n",
    "temperature_df = pd.read_csv('Chicago_Average_Temperature.csv')"
   ]
  },
  {
   "cell_type": "code",
   "execution_count": 18,
   "id": "211bd7b5-7ad3-4889-9e48-05fa4efcdc6f",
   "metadata": {},
   "outputs": [],
   "source": [
    "# Convert 'date' column to datetime\n",
    "temperature_df ['date'] = pd.to_datetime(temperature_df ['date'])"
   ]
  },
  {
   "cell_type": "code",
   "execution_count": 19,
   "id": "3f342496-fa1e-40a8-85cd-afd7d179af5d",
   "metadata": {},
   "outputs": [
    {
     "data": {
      "text/html": [
       "<div>\n",
       "<style scoped>\n",
       "    .dataframe tbody tr th:only-of-type {\n",
       "        vertical-align: middle;\n",
       "    }\n",
       "\n",
       "    .dataframe tbody tr th {\n",
       "        vertical-align: top;\n",
       "    }\n",
       "\n",
       "    .dataframe thead th {\n",
       "        text-align: right;\n",
       "    }\n",
       "</style>\n",
       "<table border=\"1\" class=\"dataframe\">\n",
       "  <thead>\n",
       "    <tr style=\"text-align: right;\">\n",
       "      <th></th>\n",
       "      <th>date</th>\n",
       "      <th>avgTemp</th>\n",
       "    </tr>\n",
       "  </thead>\n",
       "  <tbody>\n",
       "    <tr>\n",
       "      <th>0</th>\n",
       "      <td>2018-01-01</td>\n",
       "      <td>-18.9</td>\n",
       "    </tr>\n",
       "    <tr>\n",
       "      <th>1</th>\n",
       "      <td>2018-01-02</td>\n",
       "      <td>-19.1</td>\n",
       "    </tr>\n",
       "    <tr>\n",
       "      <th>2</th>\n",
       "      <td>2018-01-03</td>\n",
       "      <td>-11.4</td>\n",
       "    </tr>\n",
       "    <tr>\n",
       "      <th>3</th>\n",
       "      <td>2018-01-04</td>\n",
       "      <td>-13.9</td>\n",
       "    </tr>\n",
       "    <tr>\n",
       "      <th>4</th>\n",
       "      <td>2018-01-05</td>\n",
       "      <td>-15.2</td>\n",
       "    </tr>\n",
       "  </tbody>\n",
       "</table>\n",
       "</div>"
      ],
      "text/plain": [
       "        date  avgTemp\n",
       "0 2018-01-01    -18.9\n",
       "1 2018-01-02    -19.1\n",
       "2 2018-01-03    -11.4\n",
       "3 2018-01-04    -13.9\n",
       "4 2018-01-05    -15.2"
      ]
     },
     "execution_count": 19,
     "metadata": {},
     "output_type": "execute_result"
    }
   ],
   "source": [
    "temperature_df. head(5)"
   ]
  },
  {
   "cell_type": "code",
   "execution_count": 20,
   "id": "07cbd712-b36b-47dc-ba69-1f187c83e208",
   "metadata": {},
   "outputs": [
    {
     "data": {
      "text/plain": [
       "date       datetime64[ns]\n",
       "avgTemp           float64\n",
       "dtype: object"
      ]
     },
     "execution_count": 20,
     "metadata": {},
     "output_type": "execute_result"
    }
   ],
   "source": [
    "temperature_df.dtypes"
   ]
  },
  {
   "cell_type": "code",
   "execution_count": 21,
   "id": "e10cacf7-70a6-45c6-8911-33d42a934b35",
   "metadata": {},
   "outputs": [
    {
     "data": {
      "text/plain": [
       "(365, 2)"
      ]
     },
     "execution_count": 21,
     "metadata": {},
     "output_type": "execute_result"
    }
   ],
   "source": [
    "temperature_df.shape"
   ]
  },
  {
   "cell_type": "markdown",
   "id": "40fdefcc-23c3-452f-acd9-6ed944fd5f89",
   "metadata": {},
   "source": [
    "# Merging the Chicago citibike trips records with temperature "
   ]
  },
  {
   "cell_type": "code",
   "execution_count": 22,
   "id": "4f8c2f1c-34a1-4789-8705-f7ca301a066d",
   "metadata": {},
   "outputs": [],
   "source": [
    "# Merge the two datasets on the 'date' field\n",
    "merged_df = pd.merge(df, temperature_df, on='date', how='left')  # 'left' joins on matching dates"
   ]
  },
  {
   "cell_type": "code",
   "execution_count": 23,
   "id": "53604c1c-1b0b-4b24-9cb9-89634303a423",
   "metadata": {},
   "outputs": [
    {
     "data": {
      "text/html": [
       "<div>\n",
       "<style scoped>\n",
       "    .dataframe tbody tr th:only-of-type {\n",
       "        vertical-align: middle;\n",
       "    }\n",
       "\n",
       "    .dataframe tbody tr th {\n",
       "        vertical-align: top;\n",
       "    }\n",
       "\n",
       "    .dataframe thead th {\n",
       "        text-align: right;\n",
       "    }\n",
       "</style>\n",
       "<table border=\"1\" class=\"dataframe\">\n",
       "  <thead>\n",
       "    <tr style=\"text-align: right;\">\n",
       "      <th></th>\n",
       "      <th>trip_id</th>\n",
       "      <th>start_time</th>\n",
       "      <th>end_time</th>\n",
       "      <th>bikeid</th>\n",
       "      <th>tripduration</th>\n",
       "      <th>from_station_id</th>\n",
       "      <th>from_station_name</th>\n",
       "      <th>to_station_id</th>\n",
       "      <th>to_station_name</th>\n",
       "      <th>usertype</th>\n",
       "      <th>gender</th>\n",
       "      <th>birthyear</th>\n",
       "      <th>date</th>\n",
       "      <th>avgTemp</th>\n",
       "    </tr>\n",
       "  </thead>\n",
       "  <tbody>\n",
       "    <tr>\n",
       "      <th>0</th>\n",
       "      <td>17536702</td>\n",
       "      <td>2018-01-01 00:12:00</td>\n",
       "      <td>2018-01-01 00:17:23</td>\n",
       "      <td>3304</td>\n",
       "      <td>323.0</td>\n",
       "      <td>69</td>\n",
       "      <td>Damen Ave &amp; Pierce Ave</td>\n",
       "      <td>159</td>\n",
       "      <td>Claremont Ave &amp; Hirsch St</td>\n",
       "      <td>Subscriber</td>\n",
       "      <td>Male</td>\n",
       "      <td>1988.0</td>\n",
       "      <td>2018-01-01</td>\n",
       "      <td>-18.9</td>\n",
       "    </tr>\n",
       "    <tr>\n",
       "      <th>1</th>\n",
       "      <td>17536703</td>\n",
       "      <td>2018-01-01 00:41:35</td>\n",
       "      <td>2018-01-01 00:47:52</td>\n",
       "      <td>5367</td>\n",
       "      <td>377.0</td>\n",
       "      <td>253</td>\n",
       "      <td>Winthrop Ave &amp; Lawrence Ave</td>\n",
       "      <td>325</td>\n",
       "      <td>Clark St &amp; Winnemac Ave (Temp)</td>\n",
       "      <td>Subscriber</td>\n",
       "      <td>Male</td>\n",
       "      <td>1984.0</td>\n",
       "      <td>2018-01-01</td>\n",
       "      <td>-18.9</td>\n",
       "    </tr>\n",
       "    <tr>\n",
       "      <th>2</th>\n",
       "      <td>17536704</td>\n",
       "      <td>2018-01-01 00:44:46</td>\n",
       "      <td>2018-01-01 01:33:10</td>\n",
       "      <td>4599</td>\n",
       "      <td>2,904.0</td>\n",
       "      <td>98</td>\n",
       "      <td>LaSalle St &amp; Washington St</td>\n",
       "      <td>509</td>\n",
       "      <td>Troy St &amp; North Ave</td>\n",
       "      <td>Subscriber</td>\n",
       "      <td>Male</td>\n",
       "      <td>1989.0</td>\n",
       "      <td>2018-01-01</td>\n",
       "      <td>-18.9</td>\n",
       "    </tr>\n",
       "    <tr>\n",
       "      <th>3</th>\n",
       "      <td>17536705</td>\n",
       "      <td>2018-01-01 00:53:10</td>\n",
       "      <td>2018-01-01 01:05:37</td>\n",
       "      <td>2302</td>\n",
       "      <td>747.0</td>\n",
       "      <td>125</td>\n",
       "      <td>Rush St &amp; Hubbard St</td>\n",
       "      <td>364</td>\n",
       "      <td>Larrabee St &amp; Oak St</td>\n",
       "      <td>Subscriber</td>\n",
       "      <td>Male</td>\n",
       "      <td>1983.0</td>\n",
       "      <td>2018-01-01</td>\n",
       "      <td>-18.9</td>\n",
       "    </tr>\n",
       "    <tr>\n",
       "      <th>4</th>\n",
       "      <td>17536706</td>\n",
       "      <td>2018-01-01 00:53:37</td>\n",
       "      <td>2018-01-01 00:56:40</td>\n",
       "      <td>3696</td>\n",
       "      <td>183.0</td>\n",
       "      <td>129</td>\n",
       "      <td>Blue Island Ave &amp; 18th St</td>\n",
       "      <td>205</td>\n",
       "      <td>Paulina St &amp; 18th St</td>\n",
       "      <td>Subscriber</td>\n",
       "      <td>Male</td>\n",
       "      <td>1989.0</td>\n",
       "      <td>2018-01-01</td>\n",
       "      <td>-18.9</td>\n",
       "    </tr>\n",
       "  </tbody>\n",
       "</table>\n",
       "</div>"
      ],
      "text/plain": [
       "    trip_id          start_time             end_time  bikeid tripduration  \\\n",
       "0  17536702 2018-01-01 00:12:00  2018-01-01 00:17:23    3304        323.0   \n",
       "1  17536703 2018-01-01 00:41:35  2018-01-01 00:47:52    5367        377.0   \n",
       "2  17536704 2018-01-01 00:44:46  2018-01-01 01:33:10    4599      2,904.0   \n",
       "3  17536705 2018-01-01 00:53:10  2018-01-01 01:05:37    2302        747.0   \n",
       "4  17536706 2018-01-01 00:53:37  2018-01-01 00:56:40    3696        183.0   \n",
       "\n",
       "   from_station_id            from_station_name  to_station_id  \\\n",
       "0               69       Damen Ave & Pierce Ave            159   \n",
       "1              253  Winthrop Ave & Lawrence Ave            325   \n",
       "2               98   LaSalle St & Washington St            509   \n",
       "3              125         Rush St & Hubbard St            364   \n",
       "4              129    Blue Island Ave & 18th St            205   \n",
       "\n",
       "                  to_station_name    usertype gender  birthyear       date  \\\n",
       "0       Claremont Ave & Hirsch St  Subscriber   Male     1988.0 2018-01-01   \n",
       "1  Clark St & Winnemac Ave (Temp)  Subscriber   Male     1984.0 2018-01-01   \n",
       "2             Troy St & North Ave  Subscriber   Male     1989.0 2018-01-01   \n",
       "3            Larrabee St & Oak St  Subscriber   Male     1983.0 2018-01-01   \n",
       "4            Paulina St & 18th St  Subscriber   Male     1989.0 2018-01-01   \n",
       "\n",
       "   avgTemp  \n",
       "0    -18.9  \n",
       "1    -18.9  \n",
       "2    -18.9  \n",
       "3    -18.9  \n",
       "4    -18.9  "
      ]
     },
     "execution_count": 23,
     "metadata": {},
     "output_type": "execute_result"
    }
   ],
   "source": [
    "# Display the merged DataFrame\n",
    "merged_df. head(5)"
   ]
  },
  {
   "cell_type": "code",
   "execution_count": 24,
   "id": "58386bc8-ca97-4136-aaaa-b1632efd59c1",
   "metadata": {},
   "outputs": [
    {
     "data": {
      "text/html": [
       "<div>\n",
       "<style scoped>\n",
       "    .dataframe tbody tr th:only-of-type {\n",
       "        vertical-align: middle;\n",
       "    }\n",
       "\n",
       "    .dataframe tbody tr th {\n",
       "        vertical-align: top;\n",
       "    }\n",
       "\n",
       "    .dataframe thead th {\n",
       "        text-align: right;\n",
       "    }\n",
       "</style>\n",
       "<table border=\"1\" class=\"dataframe\">\n",
       "  <thead>\n",
       "    <tr style=\"text-align: right;\">\n",
       "      <th></th>\n",
       "      <th>trip_id</th>\n",
       "      <th>start_time</th>\n",
       "      <th>end_time</th>\n",
       "      <th>bikeid</th>\n",
       "      <th>tripduration</th>\n",
       "      <th>from_station_id</th>\n",
       "      <th>from_station_name</th>\n",
       "      <th>to_station_id</th>\n",
       "      <th>to_station_name</th>\n",
       "      <th>usertype</th>\n",
       "      <th>gender</th>\n",
       "      <th>birthyear</th>\n",
       "      <th>date</th>\n",
       "      <th>avgTemp</th>\n",
       "    </tr>\n",
       "  </thead>\n",
       "  <tbody>\n",
       "    <tr>\n",
       "      <th>3603077</th>\n",
       "      <td>21742438</td>\n",
       "      <td>2018-12-31 23:45:17</td>\n",
       "      <td>2018-12-31 23:50:05</td>\n",
       "      <td>2931</td>\n",
       "      <td>288.0</td>\n",
       "      <td>49</td>\n",
       "      <td>Dearborn St &amp; Monroe St</td>\n",
       "      <td>164</td>\n",
       "      <td>Franklin St &amp; Lake St</td>\n",
       "      <td>Subscriber</td>\n",
       "      <td>Female</td>\n",
       "      <td>1983.0</td>\n",
       "      <td>2018-12-31</td>\n",
       "      <td>1.3</td>\n",
       "    </tr>\n",
       "    <tr>\n",
       "      <th>3603078</th>\n",
       "      <td>21742439</td>\n",
       "      <td>2018-12-31 23:48:48</td>\n",
       "      <td>2018-12-31 23:57:22</td>\n",
       "      <td>4386</td>\n",
       "      <td>514.0</td>\n",
       "      <td>624</td>\n",
       "      <td>Dearborn St &amp; Van Buren St (*)</td>\n",
       "      <td>44</td>\n",
       "      <td>State St &amp; Randolph St</td>\n",
       "      <td>Subscriber</td>\n",
       "      <td>Female</td>\n",
       "      <td>1990.0</td>\n",
       "      <td>2018-12-31</td>\n",
       "      <td>1.3</td>\n",
       "    </tr>\n",
       "    <tr>\n",
       "      <th>3603079</th>\n",
       "      <td>21742440</td>\n",
       "      <td>2018-12-31 23:50:09</td>\n",
       "      <td>2018-12-31 23:57:16</td>\n",
       "      <td>4927</td>\n",
       "      <td>427.0</td>\n",
       "      <td>41</td>\n",
       "      <td>Federal St &amp; Polk St</td>\n",
       "      <td>52</td>\n",
       "      <td>Michigan Ave &amp; Lake St</td>\n",
       "      <td>Subscriber</td>\n",
       "      <td>Female</td>\n",
       "      <td>1995.0</td>\n",
       "      <td>2018-12-31</td>\n",
       "      <td>1.3</td>\n",
       "    </tr>\n",
       "    <tr>\n",
       "      <th>3603080</th>\n",
       "      <td>21742441</td>\n",
       "      <td>2018-12-31 23:55:04</td>\n",
       "      <td>2018-12-31 23:58:24</td>\n",
       "      <td>1350</td>\n",
       "      <td>200.0</td>\n",
       "      <td>141</td>\n",
       "      <td>Clark St &amp; Lincoln Ave</td>\n",
       "      <td>118</td>\n",
       "      <td>Sedgwick St &amp; North Ave</td>\n",
       "      <td>Subscriber</td>\n",
       "      <td>Male</td>\n",
       "      <td>1999.0</td>\n",
       "      <td>2018-12-31</td>\n",
       "      <td>1.3</td>\n",
       "    </tr>\n",
       "    <tr>\n",
       "      <th>3603081</th>\n",
       "      <td>21742442</td>\n",
       "      <td>2018-12-31 23:59:18</td>\n",
       "      <td>2019-01-01 00:20:43</td>\n",
       "      <td>2006</td>\n",
       "      <td>1,285.0</td>\n",
       "      <td>260</td>\n",
       "      <td>Kedzie Ave &amp; Milwaukee Ave</td>\n",
       "      <td>166</td>\n",
       "      <td>Ashland Ave &amp; Wrightwood Ave</td>\n",
       "      <td>Subscriber</td>\n",
       "      <td>Male</td>\n",
       "      <td>1990.0</td>\n",
       "      <td>2018-12-31</td>\n",
       "      <td>1.3</td>\n",
       "    </tr>\n",
       "  </tbody>\n",
       "</table>\n",
       "</div>"
      ],
      "text/plain": [
       "          trip_id          start_time             end_time  bikeid  \\\n",
       "3603077  21742438 2018-12-31 23:45:17  2018-12-31 23:50:05    2931   \n",
       "3603078  21742439 2018-12-31 23:48:48  2018-12-31 23:57:22    4386   \n",
       "3603079  21742440 2018-12-31 23:50:09  2018-12-31 23:57:16    4927   \n",
       "3603080  21742441 2018-12-31 23:55:04  2018-12-31 23:58:24    1350   \n",
       "3603081  21742442 2018-12-31 23:59:18  2019-01-01 00:20:43    2006   \n",
       "\n",
       "        tripduration  from_station_id               from_station_name  \\\n",
       "3603077        288.0               49         Dearborn St & Monroe St   \n",
       "3603078        514.0              624  Dearborn St & Van Buren St (*)   \n",
       "3603079        427.0               41            Federal St & Polk St   \n",
       "3603080        200.0              141          Clark St & Lincoln Ave   \n",
       "3603081      1,285.0              260      Kedzie Ave & Milwaukee Ave   \n",
       "\n",
       "         to_station_id               to_station_name    usertype  gender  \\\n",
       "3603077            164         Franklin St & Lake St  Subscriber  Female   \n",
       "3603078             44        State St & Randolph St  Subscriber  Female   \n",
       "3603079             52        Michigan Ave & Lake St  Subscriber  Female   \n",
       "3603080            118       Sedgwick St & North Ave  Subscriber    Male   \n",
       "3603081            166  Ashland Ave & Wrightwood Ave  Subscriber    Male   \n",
       "\n",
       "         birthyear       date  avgTemp  \n",
       "3603077     1983.0 2018-12-31      1.3  \n",
       "3603078     1990.0 2018-12-31      1.3  \n",
       "3603079     1995.0 2018-12-31      1.3  \n",
       "3603080     1999.0 2018-12-31      1.3  \n",
       "3603081     1990.0 2018-12-31      1.3  "
      ]
     },
     "execution_count": 24,
     "metadata": {},
     "output_type": "execute_result"
    }
   ],
   "source": [
    "merged_df. tail(5)"
   ]
  },
  {
   "cell_type": "code",
   "execution_count": 25,
   "id": "b728b55d-7ae4-4831-b3da-072360743f11",
   "metadata": {},
   "outputs": [
    {
     "data": {
      "text/plain": [
       "(3603082, 14)"
      ]
     },
     "execution_count": 25,
     "metadata": {},
     "output_type": "execute_result"
    }
   ],
   "source": [
    "merged_df.shape"
   ]
  },
  {
   "cell_type": "code",
   "execution_count": 26,
   "id": "f79d6774-e59e-4cff-902b-ffcfcac2d1da",
   "metadata": {},
   "outputs": [],
   "source": [
    "merged_df.to_csv('chicago_data.csv')"
   ]
  },
  {
   "cell_type": "code",
   "execution_count": null,
   "id": "a70a8f14-35b0-4b78-872a-5ea45523a199",
   "metadata": {},
   "outputs": [],
   "source": []
  },
  {
   "cell_type": "code",
   "execution_count": null,
   "id": "9bf90fb3-b778-476d-8bd1-676e38d80b64",
   "metadata": {},
   "outputs": [],
   "source": []
  },
  {
   "cell_type": "code",
   "execution_count": null,
   "id": "656e52b6-5dbe-4d46-a8b5-213e6e0149c5",
   "metadata": {},
   "outputs": [],
   "source": []
  }
 ],
 "metadata": {
  "kernelspec": {
   "display_name": "Python [conda env:Chicago-s_CitiBike_Trips]",
   "language": "python",
   "name": "conda-env-Chicago-s_CitiBike_Trips-py"
  },
  "language_info": {
   "codemirror_mode": {
    "name": "ipython",
    "version": 3
   },
   "file_extension": ".py",
   "mimetype": "text/x-python",
   "name": "python",
   "nbconvert_exporter": "python",
   "pygments_lexer": "ipython3",
   "version": "3.12.7"
  }
 },
 "nbformat": 4,
 "nbformat_minor": 5
}
