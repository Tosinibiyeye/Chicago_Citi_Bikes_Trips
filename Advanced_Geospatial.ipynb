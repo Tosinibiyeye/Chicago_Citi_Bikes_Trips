{
 "cells": [
  {
   "cell_type": "markdown",
   "id": "e717b9f1-3d47-4c1f-8475-1394cf1c3301",
   "metadata": {},
   "source": [
    "# Importing needed Lib"
   ]
  },
  {
   "cell_type": "code",
   "execution_count": 1,
   "id": "77d1bbfd-8b3e-4cea-a89f-5608c9d1e577",
   "metadata": {},
   "outputs": [],
   "source": [
    "import pandas as pd\n",
    "import os\n",
    "from keplergl import KeplerGl\n",
    "from pyproj import CRS\n",
    "import numpy as np\n",
    "from matplotlib import pyplot as plt\n"
   ]
  },
  {
   "cell_type": "code",
   "execution_count": 2,
   "id": "4c2c9c89-ee26-4aaf-ba13-5987631b6b95",
   "metadata": {},
   "outputs": [],
   "source": [
    "df = pd.read_csv('chicago_data.csv', index_col = 0)"
   ]
  },
  {
   "cell_type": "code",
   "execution_count": 3,
   "id": "c1e0d5cf-8801-4edd-a3df-b8748320fdd2",
   "metadata": {},
   "outputs": [],
   "source": [
    "# Group by 'from_station_name' and 'to_station_name'\n",
    "grouped_df = df.groupby(['from_station_name', 'to_station_name']).size().reset_index(name='trip_count')"
   ]
  },
  {
   "cell_type": "code",
   "execution_count": 4,
   "id": "59d12537-ffa6-4dfb-a94a-4fde07003d21",
   "metadata": {},
   "outputs": [
    {
     "data": {
      "text/html": [
       "<div>\n",
       "<style scoped>\n",
       "    .dataframe tbody tr th:only-of-type {\n",
       "        vertical-align: middle;\n",
       "    }\n",
       "\n",
       "    .dataframe tbody tr th {\n",
       "        vertical-align: top;\n",
       "    }\n",
       "\n",
       "    .dataframe thead th {\n",
       "        text-align: right;\n",
       "    }\n",
       "</style>\n",
       "<table border=\"1\" class=\"dataframe\">\n",
       "  <thead>\n",
       "    <tr style=\"text-align: right;\">\n",
       "      <th></th>\n",
       "      <th>from_station_name</th>\n",
       "      <th>to_station_name</th>\n",
       "      <th>trip_count</th>\n",
       "    </tr>\n",
       "  </thead>\n",
       "  <tbody>\n",
       "    <tr>\n",
       "      <th>0</th>\n",
       "      <td>2112 W Peterson Ave</td>\n",
       "      <td>2112 W Peterson Ave</td>\n",
       "      <td>14</td>\n",
       "    </tr>\n",
       "    <tr>\n",
       "      <th>1</th>\n",
       "      <td>2112 W Peterson Ave</td>\n",
       "      <td>Ashland Ave &amp; Belle Plaine Ave</td>\n",
       "      <td>1</td>\n",
       "    </tr>\n",
       "    <tr>\n",
       "      <th>2</th>\n",
       "      <td>2112 W Peterson Ave</td>\n",
       "      <td>Avondale Ave &amp; Irving Park Rd</td>\n",
       "      <td>1</td>\n",
       "    </tr>\n",
       "    <tr>\n",
       "      <th>3</th>\n",
       "      <td>2112 W Peterson Ave</td>\n",
       "      <td>Benson Ave &amp; Church St</td>\n",
       "      <td>2</td>\n",
       "    </tr>\n",
       "    <tr>\n",
       "      <th>4</th>\n",
       "      <td>2112 W Peterson Ave</td>\n",
       "      <td>Broadway &amp; Argyle St</td>\n",
       "      <td>2</td>\n",
       "    </tr>\n",
       "    <tr>\n",
       "      <th>...</th>\n",
       "      <td>...</td>\n",
       "      <td>...</td>\n",
       "      <td>...</td>\n",
       "    </tr>\n",
       "    <tr>\n",
       "      <th>113674</th>\n",
       "      <td>Yates Blvd &amp; 75th St</td>\n",
       "      <td>South Shore Dr &amp; 74th St</td>\n",
       "      <td>2</td>\n",
       "    </tr>\n",
       "    <tr>\n",
       "      <th>113675</th>\n",
       "      <td>Yates Blvd &amp; 75th St</td>\n",
       "      <td>Stony Island Ave &amp; 71st St</td>\n",
       "      <td>2</td>\n",
       "    </tr>\n",
       "    <tr>\n",
       "      <th>113676</th>\n",
       "      <td>Yates Blvd &amp; 75th St</td>\n",
       "      <td>Stony Island Ave &amp; 75th St</td>\n",
       "      <td>3</td>\n",
       "    </tr>\n",
       "    <tr>\n",
       "      <th>113677</th>\n",
       "      <td>Yates Blvd &amp; 75th St</td>\n",
       "      <td>Woodlawn Ave &amp; 55th St</td>\n",
       "      <td>2</td>\n",
       "    </tr>\n",
       "    <tr>\n",
       "      <th>113678</th>\n",
       "      <td>Yates Blvd &amp; 75th St</td>\n",
       "      <td>Yates Blvd &amp; 75th St</td>\n",
       "      <td>21</td>\n",
       "    </tr>\n",
       "  </tbody>\n",
       "</table>\n",
       "<p>113679 rows × 3 columns</p>\n",
       "</div>"
      ],
      "text/plain": [
       "           from_station_name                 to_station_name  trip_count\n",
       "0        2112 W Peterson Ave             2112 W Peterson Ave          14\n",
       "1        2112 W Peterson Ave  Ashland Ave & Belle Plaine Ave           1\n",
       "2        2112 W Peterson Ave   Avondale Ave & Irving Park Rd           1\n",
       "3        2112 W Peterson Ave          Benson Ave & Church St           2\n",
       "4        2112 W Peterson Ave            Broadway & Argyle St           2\n",
       "...                      ...                             ...         ...\n",
       "113674  Yates Blvd & 75th St        South Shore Dr & 74th St           2\n",
       "113675  Yates Blvd & 75th St      Stony Island Ave & 71st St           2\n",
       "113676  Yates Blvd & 75th St      Stony Island Ave & 75th St           3\n",
       "113677  Yates Blvd & 75th St          Woodlawn Ave & 55th St           2\n",
       "113678  Yates Blvd & 75th St            Yates Blvd & 75th St          21\n",
       "\n",
       "[113679 rows x 3 columns]"
      ]
     },
     "execution_count": 4,
     "metadata": {},
     "output_type": "execute_result"
    }
   ],
   "source": [
    "grouped_df"
   ]
  },
  {
   "cell_type": "code",
   "execution_count": 5,
   "id": "6875b11c-0e95-418f-934d-170d077acb41",
   "metadata": {},
   "outputs": [
    {
     "name": "stdout",
     "output_type": "stream",
     "text": [
      "3603082\n",
      "(3603082, 14)\n"
     ]
    }
   ],
   "source": [
    "print(grouped_df['trip_count'].sum())\n",
    "print(df.shape)"
   ]
  },
  {
   "cell_type": "code",
   "execution_count": 6,
   "id": "33f204f5-78cd-4664-9102-b15a6ae443b2",
   "metadata": {},
   "outputs": [],
   "source": [
    "# Rename the columns\n",
    "grouped_df = grouped_df.rename(columns={\n",
    "    'from_station_name': 'start_station_name',\n",
    "    'to_station_name': 'end_station_name',\n",
    "    'trip_count': 'trips'})"
   ]
  },
  {
   "cell_type": "code",
   "execution_count": 7,
   "id": "c5ec24c6-c018-42c8-903b-4587c607e464",
   "metadata": {},
   "outputs": [
    {
     "data": {
      "text/html": [
       "<div>\n",
       "<style scoped>\n",
       "    .dataframe tbody tr th:only-of-type {\n",
       "        vertical-align: middle;\n",
       "    }\n",
       "\n",
       "    .dataframe tbody tr th {\n",
       "        vertical-align: top;\n",
       "    }\n",
       "\n",
       "    .dataframe thead th {\n",
       "        text-align: right;\n",
       "    }\n",
       "</style>\n",
       "<table border=\"1\" class=\"dataframe\">\n",
       "  <thead>\n",
       "    <tr style=\"text-align: right;\">\n",
       "      <th></th>\n",
       "      <th>start_station_name</th>\n",
       "      <th>end_station_name</th>\n",
       "      <th>trips</th>\n",
       "    </tr>\n",
       "  </thead>\n",
       "  <tbody>\n",
       "    <tr>\n",
       "      <th>0</th>\n",
       "      <td>2112 W Peterson Ave</td>\n",
       "      <td>2112 W Peterson Ave</td>\n",
       "      <td>14</td>\n",
       "    </tr>\n",
       "    <tr>\n",
       "      <th>1</th>\n",
       "      <td>2112 W Peterson Ave</td>\n",
       "      <td>Ashland Ave &amp; Belle Plaine Ave</td>\n",
       "      <td>1</td>\n",
       "    </tr>\n",
       "    <tr>\n",
       "      <th>2</th>\n",
       "      <td>2112 W Peterson Ave</td>\n",
       "      <td>Avondale Ave &amp; Irving Park Rd</td>\n",
       "      <td>1</td>\n",
       "    </tr>\n",
       "    <tr>\n",
       "      <th>3</th>\n",
       "      <td>2112 W Peterson Ave</td>\n",
       "      <td>Benson Ave &amp; Church St</td>\n",
       "      <td>2</td>\n",
       "    </tr>\n",
       "    <tr>\n",
       "      <th>4</th>\n",
       "      <td>2112 W Peterson Ave</td>\n",
       "      <td>Broadway &amp; Argyle St</td>\n",
       "      <td>2</td>\n",
       "    </tr>\n",
       "    <tr>\n",
       "      <th>...</th>\n",
       "      <td>...</td>\n",
       "      <td>...</td>\n",
       "      <td>...</td>\n",
       "    </tr>\n",
       "    <tr>\n",
       "      <th>113674</th>\n",
       "      <td>Yates Blvd &amp; 75th St</td>\n",
       "      <td>South Shore Dr &amp; 74th St</td>\n",
       "      <td>2</td>\n",
       "    </tr>\n",
       "    <tr>\n",
       "      <th>113675</th>\n",
       "      <td>Yates Blvd &amp; 75th St</td>\n",
       "      <td>Stony Island Ave &amp; 71st St</td>\n",
       "      <td>2</td>\n",
       "    </tr>\n",
       "    <tr>\n",
       "      <th>113676</th>\n",
       "      <td>Yates Blvd &amp; 75th St</td>\n",
       "      <td>Stony Island Ave &amp; 75th St</td>\n",
       "      <td>3</td>\n",
       "    </tr>\n",
       "    <tr>\n",
       "      <th>113677</th>\n",
       "      <td>Yates Blvd &amp; 75th St</td>\n",
       "      <td>Woodlawn Ave &amp; 55th St</td>\n",
       "      <td>2</td>\n",
       "    </tr>\n",
       "    <tr>\n",
       "      <th>113678</th>\n",
       "      <td>Yates Blvd &amp; 75th St</td>\n",
       "      <td>Yates Blvd &amp; 75th St</td>\n",
       "      <td>21</td>\n",
       "    </tr>\n",
       "  </tbody>\n",
       "</table>\n",
       "<p>113679 rows × 3 columns</p>\n",
       "</div>"
      ],
      "text/plain": [
       "          start_station_name                end_station_name  trips\n",
       "0        2112 W Peterson Ave             2112 W Peterson Ave     14\n",
       "1        2112 W Peterson Ave  Ashland Ave & Belle Plaine Ave      1\n",
       "2        2112 W Peterson Ave   Avondale Ave & Irving Park Rd      1\n",
       "3        2112 W Peterson Ave          Benson Ave & Church St      2\n",
       "4        2112 W Peterson Ave            Broadway & Argyle St      2\n",
       "...                      ...                             ...    ...\n",
       "113674  Yates Blvd & 75th St        South Shore Dr & 74th St      2\n",
       "113675  Yates Blvd & 75th St      Stony Island Ave & 71st St      2\n",
       "113676  Yates Blvd & 75th St      Stony Island Ave & 75th St      3\n",
       "113677  Yates Blvd & 75th St          Woodlawn Ave & 55th St      2\n",
       "113678  Yates Blvd & 75th St            Yates Blvd & 75th St     21\n",
       "\n",
       "[113679 rows x 3 columns]"
      ]
     },
     "execution_count": 7,
     "metadata": {},
     "output_type": "execute_result"
    }
   ],
   "source": [
    "grouped_df"
   ]
  },
  {
   "cell_type": "code",
   "execution_count": 8,
   "id": "89a3cd4a-85b1-4187-b08d-de848ddd3969",
   "metadata": {},
   "outputs": [],
   "source": [
    "# Create a new column 'all_station_id' by concatenating 'from_station_id' and 'to_station_id'\n",
    "df['all_station_id'] = df['from_station_id'].astype(str) + ', ' + df['to_station_id'].astype(str)\n",
    "\n",
    "# Create a new column 'all_station_name' by concatenating 'from_station_name' and 'to_station_name'\n",
    "df['all_station_name'] = df['from_station_name'] + ', ' + df['to_station_name']\n",
    "\n",
    "# Combine the two station columns and drop duplicates for IDs and names\n",
    "df_combined = pd.DataFrame({\n",
    "    'station_id': pd.concat([df['from_station_id'], df['to_station_id']]).drop_duplicates(),\n",
    "    'station_name': pd.concat([df['from_station_name'], df['to_station_name']]).drop_duplicates()\n",
    "})"
   ]
  },
  {
   "cell_type": "code",
   "execution_count": 9,
   "id": "b233804a-84b6-47ff-bb62-4dd2148ac151",
   "metadata": {},
   "outputs": [
    {
     "data": {
      "text/html": [
       "<div>\n",
       "<style scoped>\n",
       "    .dataframe tbody tr th:only-of-type {\n",
       "        vertical-align: middle;\n",
       "    }\n",
       "\n",
       "    .dataframe tbody tr th {\n",
       "        vertical-align: top;\n",
       "    }\n",
       "\n",
       "    .dataframe thead th {\n",
       "        text-align: right;\n",
       "    }\n",
       "</style>\n",
       "<table border=\"1\" class=\"dataframe\">\n",
       "  <thead>\n",
       "    <tr style=\"text-align: right;\">\n",
       "      <th></th>\n",
       "      <th>station_id</th>\n",
       "      <th>station_name</th>\n",
       "    </tr>\n",
       "  </thead>\n",
       "  <tbody>\n",
       "    <tr>\n",
       "      <th>0</th>\n",
       "      <td>69.0</td>\n",
       "      <td>Damen Ave &amp; Pierce Ave</td>\n",
       "    </tr>\n",
       "    <tr>\n",
       "      <th>1</th>\n",
       "      <td>253.0</td>\n",
       "      <td>Winthrop Ave &amp; Lawrence Ave</td>\n",
       "    </tr>\n",
       "    <tr>\n",
       "      <th>2</th>\n",
       "      <td>98.0</td>\n",
       "      <td>LaSalle St &amp; Washington St</td>\n",
       "    </tr>\n",
       "    <tr>\n",
       "      <th>3</th>\n",
       "      <td>125.0</td>\n",
       "      <td>Rush St &amp; Hubbard St</td>\n",
       "    </tr>\n",
       "    <tr>\n",
       "      <th>4</th>\n",
       "      <td>129.0</td>\n",
       "      <td>Blue Island Ave &amp; 18th St</td>\n",
       "    </tr>\n",
       "    <tr>\n",
       "      <th>...</th>\n",
       "      <td>...</td>\n",
       "      <td>...</td>\n",
       "    </tr>\n",
       "    <tr>\n",
       "      <th>3401823</th>\n",
       "      <td>632.0</td>\n",
       "      <td>Clark St &amp; Newport St</td>\n",
       "    </tr>\n",
       "    <tr>\n",
       "      <th>3444409</th>\n",
       "      <td>651.0</td>\n",
       "      <td>Michigan Ave &amp; 71st St</td>\n",
       "    </tr>\n",
       "    <tr>\n",
       "      <th>3487700</th>\n",
       "      <td>647.0</td>\n",
       "      <td>Elizabeth St &amp; 59th St</td>\n",
       "    </tr>\n",
       "    <tr>\n",
       "      <th>3538937</th>\n",
       "      <td>664.0</td>\n",
       "      <td>Leavitt St &amp; Belmont Ave (*)</td>\n",
       "    </tr>\n",
       "    <tr>\n",
       "      <th>3587719</th>\n",
       "      <td>653.0</td>\n",
       "      <td>Cornell Dr &amp; Hayes Dr</td>\n",
       "    </tr>\n",
       "  </tbody>\n",
       "</table>\n",
       "<p>623 rows × 2 columns</p>\n",
       "</div>"
      ],
      "text/plain": [
       "         station_id                  station_name\n",
       "0              69.0        Damen Ave & Pierce Ave\n",
       "1             253.0   Winthrop Ave & Lawrence Ave\n",
       "2              98.0    LaSalle St & Washington St\n",
       "3             125.0          Rush St & Hubbard St\n",
       "4             129.0     Blue Island Ave & 18th St\n",
       "...             ...                           ...\n",
       "3401823       632.0         Clark St & Newport St\n",
       "3444409       651.0        Michigan Ave & 71st St\n",
       "3487700       647.0        Elizabeth St & 59th St\n",
       "3538937       664.0  Leavitt St & Belmont Ave (*)\n",
       "3587719       653.0         Cornell Dr & Hayes Dr\n",
       "\n",
       "[623 rows x 2 columns]"
      ]
     },
     "execution_count": 9,
     "metadata": {},
     "output_type": "execute_result"
    }
   ],
   "source": [
    "df_combined"
   ]
  },
  {
   "cell_type": "code",
   "execution_count": 10,
   "id": "08b8bfac-05e9-4926-a33c-07cc1ca5e723",
   "metadata": {},
   "outputs": [
    {
     "data": {
      "text/plain": [
       "station_id      float64\n",
       "station_name     object\n",
       "dtype: object"
      ]
     },
     "execution_count": 10,
     "metadata": {},
     "output_type": "execute_result"
    }
   ],
   "source": [
    "df_combined. dtypes"
   ]
  },
  {
   "cell_type": "code",
   "execution_count": 11,
   "id": "f5d1c91c-64d6-41ad-ac09-3798f778cedc",
   "metadata": {},
   "outputs": [],
   "source": [
    "# Fill NaN values with 0 (or any other value) and convert 'station_id' to integer\n",
    "df_combined['station_id'] = df_combined['station_id'].fillna(0).astype(int)"
   ]
  },
  {
   "cell_type": "code",
   "execution_count": 12,
   "id": "56c57f6f-3d90-4c1c-848c-e1d64e1f2bc2",
   "metadata": {},
   "outputs": [
    {
     "data": {
      "text/html": [
       "<div>\n",
       "<style scoped>\n",
       "    .dataframe tbody tr th:only-of-type {\n",
       "        vertical-align: middle;\n",
       "    }\n",
       "\n",
       "    .dataframe tbody tr th {\n",
       "        vertical-align: top;\n",
       "    }\n",
       "\n",
       "    .dataframe thead th {\n",
       "        text-align: right;\n",
       "    }\n",
       "</style>\n",
       "<table border=\"1\" class=\"dataframe\">\n",
       "  <thead>\n",
       "    <tr style=\"text-align: right;\">\n",
       "      <th></th>\n",
       "      <th>station_id</th>\n",
       "      <th>station_name</th>\n",
       "    </tr>\n",
       "  </thead>\n",
       "  <tbody>\n",
       "    <tr>\n",
       "      <th>0</th>\n",
       "      <td>69</td>\n",
       "      <td>Damen Ave &amp; Pierce Ave</td>\n",
       "    </tr>\n",
       "    <tr>\n",
       "      <th>1</th>\n",
       "      <td>253</td>\n",
       "      <td>Winthrop Ave &amp; Lawrence Ave</td>\n",
       "    </tr>\n",
       "    <tr>\n",
       "      <th>2</th>\n",
       "      <td>98</td>\n",
       "      <td>LaSalle St &amp; Washington St</td>\n",
       "    </tr>\n",
       "    <tr>\n",
       "      <th>3</th>\n",
       "      <td>125</td>\n",
       "      <td>Rush St &amp; Hubbard St</td>\n",
       "    </tr>\n",
       "    <tr>\n",
       "      <th>4</th>\n",
       "      <td>129</td>\n",
       "      <td>Blue Island Ave &amp; 18th St</td>\n",
       "    </tr>\n",
       "  </tbody>\n",
       "</table>\n",
       "</div>"
      ],
      "text/plain": [
       "   station_id                 station_name\n",
       "0          69       Damen Ave & Pierce Ave\n",
       "1         253  Winthrop Ave & Lawrence Ave\n",
       "2          98   LaSalle St & Washington St\n",
       "3         125         Rush St & Hubbard St\n",
       "4         129    Blue Island Ave & 18th St"
      ]
     },
     "execution_count": 12,
     "metadata": {},
     "output_type": "execute_result"
    }
   ],
   "source": [
    "df_combined.head()"
   ]
  },
  {
   "cell_type": "code",
   "execution_count": 13,
   "id": "b749aadc-bf23-476d-8bce-eb41dce02d09",
   "metadata": {},
   "outputs": [
    {
     "data": {
      "text/plain": [
       "station_id       int32\n",
       "station_name    object\n",
       "dtype: object"
      ]
     },
     "execution_count": 13,
     "metadata": {},
     "output_type": "execute_result"
    }
   ],
   "source": [
    "df_combined. dtypes"
   ]
  },
  {
   "cell_type": "markdown",
   "id": "ded4c07d-2216-4c0c-b570-c20e0127e65f",
   "metadata": {},
   "source": [
    "#### Import location data - only for Chicago"
   ]
  },
  {
   "cell_type": "code",
   "execution_count": 14,
   "id": "f83846d2-e9d3-421f-be4b-9c2dc8edfdcc",
   "metadata": {},
   "outputs": [],
   "source": [
    "# Load location data\n",
    "\n",
    "df_stations_coordinates = pd.read_csv(\"all_bike_stations_coordinates.csv\")"
   ]
  },
  {
   "cell_type": "code",
   "execution_count": 15,
   "id": "9a317855-b00b-4d90-8200-e349f67650dc",
   "metadata": {},
   "outputs": [
    {
     "data": {
      "text/html": [
       "<div>\n",
       "<style scoped>\n",
       "    .dataframe tbody tr th:only-of-type {\n",
       "        vertical-align: middle;\n",
       "    }\n",
       "\n",
       "    .dataframe tbody tr th {\n",
       "        vertical-align: top;\n",
       "    }\n",
       "\n",
       "    .dataframe thead th {\n",
       "        text-align: right;\n",
       "    }\n",
       "</style>\n",
       "<table border=\"1\" class=\"dataframe\">\n",
       "  <thead>\n",
       "    <tr style=\"text-align: right;\">\n",
       "      <th></th>\n",
       "      <th>station_id</th>\n",
       "      <th>lat</th>\n",
       "      <th>lon</th>\n",
       "    </tr>\n",
       "  </thead>\n",
       "  <tbody>\n",
       "    <tr>\n",
       "      <th>0</th>\n",
       "      <td>2</td>\n",
       "      <td>41.8765</td>\n",
       "      <td>-87.6205</td>\n",
       "    </tr>\n",
       "    <tr>\n",
       "      <th>1</th>\n",
       "      <td>3</td>\n",
       "      <td>41.8672</td>\n",
       "      <td>-87.6154</td>\n",
       "    </tr>\n",
       "    <tr>\n",
       "      <th>2</th>\n",
       "      <td>4</td>\n",
       "      <td>41.8563</td>\n",
       "      <td>-87.6133</td>\n",
       "    </tr>\n",
       "    <tr>\n",
       "      <th>3</th>\n",
       "      <td>5</td>\n",
       "      <td>41.8741</td>\n",
       "      <td>-87.6277</td>\n",
       "    </tr>\n",
       "    <tr>\n",
       "      <th>4</th>\n",
       "      <td>6</td>\n",
       "      <td>41.8870</td>\n",
       "      <td>-87.6128</td>\n",
       "    </tr>\n",
       "    <tr>\n",
       "      <th>...</th>\n",
       "      <td>...</td>\n",
       "      <td>...</td>\n",
       "      <td>...</td>\n",
       "    </tr>\n",
       "    <tr>\n",
       "      <th>958</th>\n",
       "      <td>20253</td>\n",
       "      <td>41.9400</td>\n",
       "      <td>-87.6700</td>\n",
       "    </tr>\n",
       "    <tr>\n",
       "      <th>959</th>\n",
       "      <td>20254</td>\n",
       "      <td>41.9200</td>\n",
       "      <td>-87.6500</td>\n",
       "    </tr>\n",
       "    <tr>\n",
       "      <th>960</th>\n",
       "      <td>20256</td>\n",
       "      <td>41.9400</td>\n",
       "      <td>-87.6500</td>\n",
       "    </tr>\n",
       "    <tr>\n",
       "      <th>961</th>\n",
       "      <td>20257</td>\n",
       "      <td>41.9400</td>\n",
       "      <td>-87.6600</td>\n",
       "    </tr>\n",
       "    <tr>\n",
       "      <th>962</th>\n",
       "      <td>20258</td>\n",
       "      <td>41.9100</td>\n",
       "      <td>-87.6800</td>\n",
       "    </tr>\n",
       "  </tbody>\n",
       "</table>\n",
       "<p>963 rows × 3 columns</p>\n",
       "</div>"
      ],
      "text/plain": [
       "     station_id      lat      lon\n",
       "0             2  41.8765 -87.6205\n",
       "1             3  41.8672 -87.6154\n",
       "2             4  41.8563 -87.6133\n",
       "3             5  41.8741 -87.6277\n",
       "4             6  41.8870 -87.6128\n",
       "..          ...      ...      ...\n",
       "958       20253  41.9400 -87.6700\n",
       "959       20254  41.9200 -87.6500\n",
       "960       20256  41.9400 -87.6500\n",
       "961       20257  41.9400 -87.6600\n",
       "962       20258  41.9100 -87.6800\n",
       "\n",
       "[963 rows x 3 columns]"
      ]
     },
     "execution_count": 15,
     "metadata": {},
     "output_type": "execute_result"
    }
   ],
   "source": [
    "df_stations_coordinates"
   ]
  },
  {
   "cell_type": "code",
   "execution_count": 16,
   "id": "cd045528-ede0-4572-b3fc-e58fa42df89b",
   "metadata": {},
   "outputs": [],
   "source": [
    "# Rename the columns\n",
    "df_stations_coordinates = df_stations_coordinates.rename(columns={\n",
    "    'lat': 'latitude',\n",
    "    'lon': 'longitude'})"
   ]
  },
  {
   "cell_type": "code",
   "execution_count": 17,
   "id": "22537dcd-3778-4ed3-b7bd-f2db76c4caf1",
   "metadata": {},
   "outputs": [
    {
     "data": {
      "text/html": [
       "<div>\n",
       "<style scoped>\n",
       "    .dataframe tbody tr th:only-of-type {\n",
       "        vertical-align: middle;\n",
       "    }\n",
       "\n",
       "    .dataframe tbody tr th {\n",
       "        vertical-align: top;\n",
       "    }\n",
       "\n",
       "    .dataframe thead th {\n",
       "        text-align: right;\n",
       "    }\n",
       "</style>\n",
       "<table border=\"1\" class=\"dataframe\">\n",
       "  <thead>\n",
       "    <tr style=\"text-align: right;\">\n",
       "      <th></th>\n",
       "      <th>station_id</th>\n",
       "      <th>latitude</th>\n",
       "      <th>longitude</th>\n",
       "    </tr>\n",
       "  </thead>\n",
       "  <tbody>\n",
       "    <tr>\n",
       "      <th>0</th>\n",
       "      <td>2</td>\n",
       "      <td>41.8765</td>\n",
       "      <td>-87.6205</td>\n",
       "    </tr>\n",
       "    <tr>\n",
       "      <th>1</th>\n",
       "      <td>3</td>\n",
       "      <td>41.8672</td>\n",
       "      <td>-87.6154</td>\n",
       "    </tr>\n",
       "    <tr>\n",
       "      <th>2</th>\n",
       "      <td>4</td>\n",
       "      <td>41.8563</td>\n",
       "      <td>-87.6133</td>\n",
       "    </tr>\n",
       "    <tr>\n",
       "      <th>3</th>\n",
       "      <td>5</td>\n",
       "      <td>41.8741</td>\n",
       "      <td>-87.6277</td>\n",
       "    </tr>\n",
       "    <tr>\n",
       "      <th>4</th>\n",
       "      <td>6</td>\n",
       "      <td>41.8870</td>\n",
       "      <td>-87.6128</td>\n",
       "    </tr>\n",
       "    <tr>\n",
       "      <th>...</th>\n",
       "      <td>...</td>\n",
       "      <td>...</td>\n",
       "      <td>...</td>\n",
       "    </tr>\n",
       "    <tr>\n",
       "      <th>958</th>\n",
       "      <td>20253</td>\n",
       "      <td>41.9400</td>\n",
       "      <td>-87.6700</td>\n",
       "    </tr>\n",
       "    <tr>\n",
       "      <th>959</th>\n",
       "      <td>20254</td>\n",
       "      <td>41.9200</td>\n",
       "      <td>-87.6500</td>\n",
       "    </tr>\n",
       "    <tr>\n",
       "      <th>960</th>\n",
       "      <td>20256</td>\n",
       "      <td>41.9400</td>\n",
       "      <td>-87.6500</td>\n",
       "    </tr>\n",
       "    <tr>\n",
       "      <th>961</th>\n",
       "      <td>20257</td>\n",
       "      <td>41.9400</td>\n",
       "      <td>-87.6600</td>\n",
       "    </tr>\n",
       "    <tr>\n",
       "      <th>962</th>\n",
       "      <td>20258</td>\n",
       "      <td>41.9100</td>\n",
       "      <td>-87.6800</td>\n",
       "    </tr>\n",
       "  </tbody>\n",
       "</table>\n",
       "<p>963 rows × 3 columns</p>\n",
       "</div>"
      ],
      "text/plain": [
       "     station_id  latitude  longitude\n",
       "0             2   41.8765   -87.6205\n",
       "1             3   41.8672   -87.6154\n",
       "2             4   41.8563   -87.6133\n",
       "3             5   41.8741   -87.6277\n",
       "4             6   41.8870   -87.6128\n",
       "..          ...       ...        ...\n",
       "958       20253   41.9400   -87.6700\n",
       "959       20254   41.9200   -87.6500\n",
       "960       20256   41.9400   -87.6500\n",
       "961       20257   41.9400   -87.6600\n",
       "962       20258   41.9100   -87.6800\n",
       "\n",
       "[963 rows x 3 columns]"
      ]
     },
     "execution_count": 17,
     "metadata": {},
     "output_type": "execute_result"
    }
   ],
   "source": [
    "df_stations_coordinates"
   ]
  },
  {
   "cell_type": "code",
   "execution_count": 18,
   "id": "0100bdc9-4377-402f-a454-363a2fc2a521",
   "metadata": {},
   "outputs": [
    {
     "data": {
      "text/plain": [
       "station_id      int64\n",
       "latitude      float64\n",
       "longitude     float64\n",
       "dtype: object"
      ]
     },
     "execution_count": 18,
     "metadata": {},
     "output_type": "execute_result"
    }
   ],
   "source": [
    "df_stations_coordinates. dtypes"
   ]
  },
  {
   "cell_type": "code",
   "execution_count": 19,
   "id": "c9c67547-0d47-46f0-9c5a-e55fd126948d",
   "metadata": {},
   "outputs": [],
   "source": [
    "# Convert 'station_id' in df_combined to match the dtype of df_stations ('int64')\n",
    "df_combined['station_id'] = df_combined['station_id'].astype('int64')"
   ]
  },
  {
   "cell_type": "code",
   "execution_count": 20,
   "id": "eb8f3ca3-59ea-4fcd-8ded-d1496041a255",
   "metadata": {},
   "outputs": [],
   "source": [
    "# Now merge the dataframes on the 'station_id' column\n",
    "df_stations = pd.merge(df_combined, df_stations_coordinates, on='station_id', how='inner')  # Use 'how'"
   ]
  },
  {
   "cell_type": "code",
   "execution_count": 21,
   "id": "05aaa18c-204c-4922-86a7-d7fb5737c230",
   "metadata": {},
   "outputs": [
    {
     "data": {
      "text/html": [
       "<div>\n",
       "<style scoped>\n",
       "    .dataframe tbody tr th:only-of-type {\n",
       "        vertical-align: middle;\n",
       "    }\n",
       "\n",
       "    .dataframe tbody tr th {\n",
       "        vertical-align: top;\n",
       "    }\n",
       "\n",
       "    .dataframe thead th {\n",
       "        text-align: right;\n",
       "    }\n",
       "</style>\n",
       "<table border=\"1\" class=\"dataframe\">\n",
       "  <thead>\n",
       "    <tr style=\"text-align: right;\">\n",
       "      <th></th>\n",
       "      <th>station_id</th>\n",
       "      <th>station_name</th>\n",
       "      <th>latitude</th>\n",
       "      <th>longitude</th>\n",
       "    </tr>\n",
       "  </thead>\n",
       "  <tbody>\n",
       "    <tr>\n",
       "      <th>0</th>\n",
       "      <td>69</td>\n",
       "      <td>Damen Ave &amp; Pierce Ave</td>\n",
       "      <td>41.9094</td>\n",
       "      <td>-87.6777</td>\n",
       "    </tr>\n",
       "    <tr>\n",
       "      <th>1</th>\n",
       "      <td>253</td>\n",
       "      <td>Winthrop Ave &amp; Lawrence Ave</td>\n",
       "      <td>41.9688</td>\n",
       "      <td>-87.6577</td>\n",
       "    </tr>\n",
       "    <tr>\n",
       "      <th>2</th>\n",
       "      <td>98</td>\n",
       "      <td>LaSalle St &amp; Washington St</td>\n",
       "      <td>41.8827</td>\n",
       "      <td>-87.6325</td>\n",
       "    </tr>\n",
       "    <tr>\n",
       "      <th>3</th>\n",
       "      <td>125</td>\n",
       "      <td>Rush St &amp; Hubbard St</td>\n",
       "      <td>41.8902</td>\n",
       "      <td>-87.6262</td>\n",
       "    </tr>\n",
       "    <tr>\n",
       "      <th>4</th>\n",
       "      <td>129</td>\n",
       "      <td>Blue Island Ave &amp; 18th St</td>\n",
       "      <td>41.8576</td>\n",
       "      <td>-87.6615</td>\n",
       "    </tr>\n",
       "    <tr>\n",
       "      <th>...</th>\n",
       "      <td>...</td>\n",
       "      <td>...</td>\n",
       "      <td>...</td>\n",
       "      <td>...</td>\n",
       "    </tr>\n",
       "    <tr>\n",
       "      <th>599</th>\n",
       "      <td>632</td>\n",
       "      <td>Clark St &amp; Newport St</td>\n",
       "      <td>41.9445</td>\n",
       "      <td>-87.6547</td>\n",
       "    </tr>\n",
       "    <tr>\n",
       "      <th>600</th>\n",
       "      <td>651</td>\n",
       "      <td>Michigan Ave &amp; 71st St</td>\n",
       "      <td>41.7653</td>\n",
       "      <td>-87.6217</td>\n",
       "    </tr>\n",
       "    <tr>\n",
       "      <th>601</th>\n",
       "      <td>647</td>\n",
       "      <td>Elizabeth St &amp; 59th St</td>\n",
       "      <td>41.7867</td>\n",
       "      <td>-87.6559</td>\n",
       "    </tr>\n",
       "    <tr>\n",
       "      <th>602</th>\n",
       "      <td>664</td>\n",
       "      <td>Leavitt St &amp; Belmont Ave (*)</td>\n",
       "      <td>41.9394</td>\n",
       "      <td>-87.6833</td>\n",
       "    </tr>\n",
       "    <tr>\n",
       "      <th>603</th>\n",
       "      <td>653</td>\n",
       "      <td>Cornell Dr &amp; Hayes Dr</td>\n",
       "      <td>41.7806</td>\n",
       "      <td>-87.5848</td>\n",
       "    </tr>\n",
       "  </tbody>\n",
       "</table>\n",
       "<p>604 rows × 4 columns</p>\n",
       "</div>"
      ],
      "text/plain": [
       "     station_id                  station_name  latitude  longitude\n",
       "0            69        Damen Ave & Pierce Ave   41.9094   -87.6777\n",
       "1           253   Winthrop Ave & Lawrence Ave   41.9688   -87.6577\n",
       "2            98    LaSalle St & Washington St   41.8827   -87.6325\n",
       "3           125          Rush St & Hubbard St   41.8902   -87.6262\n",
       "4           129     Blue Island Ave & 18th St   41.8576   -87.6615\n",
       "..          ...                           ...       ...        ...\n",
       "599         632         Clark St & Newport St   41.9445   -87.6547\n",
       "600         651        Michigan Ave & 71st St   41.7653   -87.6217\n",
       "601         647        Elizabeth St & 59th St   41.7867   -87.6559\n",
       "602         664  Leavitt St & Belmont Ave (*)   41.9394   -87.6833\n",
       "603         653         Cornell Dr & Hayes Dr   41.7806   -87.5848\n",
       "\n",
       "[604 rows x 4 columns]"
      ]
     },
     "execution_count": 21,
     "metadata": {},
     "output_type": "execute_result"
    }
   ],
   "source": [
    "df_stations"
   ]
  },
  {
   "cell_type": "code",
   "execution_count": 22,
   "id": "d81204c4-063b-42e0-a629-5108ba8638e8",
   "metadata": {},
   "outputs": [],
   "source": [
    "# Merge on 'start_station_name' with 'station_name' to get start station details (latitude, longitude)\n",
    "df_merged_start = pd.merge(grouped_df, df_stations, left_on='start_station_name', right_on='station_name', how='left')"
   ]
  },
  {
   "cell_type": "code",
   "execution_count": 23,
   "id": "de94d2d7-484f-4a98-92f5-dec075a6f999",
   "metadata": {},
   "outputs": [],
   "source": [
    "# Rename the columns from df_stations after the merge to specify they are related to the start station\n",
    "df_merged_start.rename(columns={'latitude': 'start_latitude', 'longitude': 'start_longitude', 'station_name': 'start_station_name'}, inplace=True)"
   ]
  },
  {
   "cell_type": "code",
   "execution_count": 24,
   "id": "655d6da6-e88a-4c74-b3c7-46941b35e774",
   "metadata": {},
   "outputs": [],
   "source": [
    "# Merge again on 'end_station_name' with 'station_name' to get end station details (latitude, longitude)\n",
    "df_final = pd.merge(df_merged_start, df_stations, left_on='end_station_name', right_on='station_name', how='left')"
   ]
  },
  {
   "cell_type": "code",
   "execution_count": 25,
   "id": "a70198e9-41b5-4336-8f9a-580338384682",
   "metadata": {},
   "outputs": [],
   "source": [
    "# Rename the columns from df_stations after the second merge to specify they are related to the end station\n",
    "df_final.rename(columns={'latitude': 'end_latitude', 'longitude': 'end_longitude', 'station_name': 'end_station_name'}, inplace=True)\n"
   ]
  },
  {
   "cell_type": "code",
   "execution_count": 27,
   "id": "45c0c063-274c-44fb-8699-9bf370389c96",
   "metadata": {},
   "outputs": [
    {
     "data": {
      "text/html": [
       "<div>\n",
       "<style scoped>\n",
       "    .dataframe tbody tr th:only-of-type {\n",
       "        vertical-align: middle;\n",
       "    }\n",
       "\n",
       "    .dataframe tbody tr th {\n",
       "        vertical-align: top;\n",
       "    }\n",
       "\n",
       "    .dataframe thead th {\n",
       "        text-align: right;\n",
       "    }\n",
       "</style>\n",
       "<table border=\"1\" class=\"dataframe\">\n",
       "  <thead>\n",
       "    <tr style=\"text-align: right;\">\n",
       "      <th></th>\n",
       "      <th>start_station_name</th>\n",
       "      <th>end_station_name</th>\n",
       "      <th>trips</th>\n",
       "      <th>station_id_x</th>\n",
       "      <th>start_station_name</th>\n",
       "      <th>start_latitude</th>\n",
       "      <th>start_longitude</th>\n",
       "      <th>station_id_y</th>\n",
       "      <th>end_station_name</th>\n",
       "      <th>end_latitude</th>\n",
       "      <th>end_longitude</th>\n",
       "    </tr>\n",
       "  </thead>\n",
       "  <tbody>\n",
       "    <tr>\n",
       "      <th>0</th>\n",
       "      <td>2112 W Peterson Ave</td>\n",
       "      <td>2112 W Peterson Ave</td>\n",
       "      <td>14</td>\n",
       "      <td>456.0</td>\n",
       "      <td>2112 W Peterson Ave</td>\n",
       "      <td>41.9912</td>\n",
       "      <td>-87.6836</td>\n",
       "      <td>456.0</td>\n",
       "      <td>2112 W Peterson Ave</td>\n",
       "      <td>41.9912</td>\n",
       "      <td>-87.6836</td>\n",
       "    </tr>\n",
       "    <tr>\n",
       "      <th>1</th>\n",
       "      <td>2112 W Peterson Ave</td>\n",
       "      <td>Ashland Ave &amp; Belle Plaine Ave</td>\n",
       "      <td>1</td>\n",
       "      <td>456.0</td>\n",
       "      <td>2112 W Peterson Ave</td>\n",
       "      <td>41.9912</td>\n",
       "      <td>-87.6836</td>\n",
       "      <td>246.0</td>\n",
       "      <td>Ashland Ave &amp; Belle Plaine Ave</td>\n",
       "      <td>41.9561</td>\n",
       "      <td>-87.6688</td>\n",
       "    </tr>\n",
       "    <tr>\n",
       "      <th>2</th>\n",
       "      <td>2112 W Peterson Ave</td>\n",
       "      <td>Avondale Ave &amp; Irving Park Rd</td>\n",
       "      <td>1</td>\n",
       "      <td>456.0</td>\n",
       "      <td>2112 W Peterson Ave</td>\n",
       "      <td>41.9912</td>\n",
       "      <td>-87.6836</td>\n",
       "      <td>483.0</td>\n",
       "      <td>Avondale Ave &amp; Irving Park Rd</td>\n",
       "      <td>41.9534</td>\n",
       "      <td>-87.7320</td>\n",
       "    </tr>\n",
       "    <tr>\n",
       "      <th>3</th>\n",
       "      <td>2112 W Peterson Ave</td>\n",
       "      <td>Benson Ave &amp; Church St</td>\n",
       "      <td>2</td>\n",
       "      <td>456.0</td>\n",
       "      <td>2112 W Peterson Ave</td>\n",
       "      <td>41.9912</td>\n",
       "      <td>-87.6836</td>\n",
       "      <td>596.0</td>\n",
       "      <td>Benson Ave &amp; Church St</td>\n",
       "      <td>42.0482</td>\n",
       "      <td>-87.6835</td>\n",
       "    </tr>\n",
       "    <tr>\n",
       "      <th>4</th>\n",
       "      <td>2112 W Peterson Ave</td>\n",
       "      <td>Broadway &amp; Argyle St</td>\n",
       "      <td>2</td>\n",
       "      <td>456.0</td>\n",
       "      <td>2112 W Peterson Ave</td>\n",
       "      <td>41.9912</td>\n",
       "      <td>-87.6836</td>\n",
       "      <td>295.0</td>\n",
       "      <td>Broadway &amp; Argyle St</td>\n",
       "      <td>41.9738</td>\n",
       "      <td>-87.6597</td>\n",
       "    </tr>\n",
       "  </tbody>\n",
       "</table>\n",
       "</div>"
      ],
      "text/plain": [
       "    start_station_name                end_station_name  trips  station_id_x  \\\n",
       "0  2112 W Peterson Ave             2112 W Peterson Ave     14         456.0   \n",
       "1  2112 W Peterson Ave  Ashland Ave & Belle Plaine Ave      1         456.0   \n",
       "2  2112 W Peterson Ave   Avondale Ave & Irving Park Rd      1         456.0   \n",
       "3  2112 W Peterson Ave          Benson Ave & Church St      2         456.0   \n",
       "4  2112 W Peterson Ave            Broadway & Argyle St      2         456.0   \n",
       "\n",
       "    start_station_name  start_latitude  start_longitude  station_id_y  \\\n",
       "0  2112 W Peterson Ave         41.9912         -87.6836         456.0   \n",
       "1  2112 W Peterson Ave         41.9912         -87.6836         246.0   \n",
       "2  2112 W Peterson Ave         41.9912         -87.6836         483.0   \n",
       "3  2112 W Peterson Ave         41.9912         -87.6836         596.0   \n",
       "4  2112 W Peterson Ave         41.9912         -87.6836         295.0   \n",
       "\n",
       "                 end_station_name  end_latitude  end_longitude  \n",
       "0             2112 W Peterson Ave       41.9912       -87.6836  \n",
       "1  Ashland Ave & Belle Plaine Ave       41.9561       -87.6688  \n",
       "2   Avondale Ave & Irving Park Rd       41.9534       -87.7320  \n",
       "3          Benson Ave & Church St       42.0482       -87.6835  \n",
       "4            Broadway & Argyle St       41.9738       -87.6597  "
      ]
     },
     "execution_count": 27,
     "metadata": {},
     "output_type": "execute_result"
    }
   ],
   "source": [
    "df_final.head()"
   ]
  },
  {
   "cell_type": "code",
   "execution_count": 28,
   "id": "2cf001e2-a49e-481e-886b-3976995fa97b",
   "metadata": {},
   "outputs": [],
   "source": [
    "df_final.to_csv('df_final_locations_for_map.csv')"
   ]
  },
  {
   "cell_type": "code",
   "execution_count": 29,
   "id": "3c953ff8-ccd0-43ad-aa10-3faa8ec9c21b",
   "metadata": {},
   "outputs": [
    {
     "name": "stdout",
     "output_type": "stream",
     "text": [
      "User Guide: https://docs.kepler.gl/docs/keplergl-jupyter\n"
     ]
    },
    {
     "name": "stderr",
     "output_type": "stream",
     "text": [
      "C:\\Users\\TOSIN\\anaconda3\\envs\\Chicago_CitiBike_Trips\\Lib\\site-packages\\keplergl\\keplergl.py:22: UserWarning: DataFrame columns are not unique, some columns will be omitted.\n",
      "  return df.to_dict('split')\n",
      "C:\\Users\\TOSIN\\AppData\\Roaming\\Python\\Python312\\site-packages\\jupyter_client\\session.py:721: UserWarning: Message serialization failed with:\n",
      "Out of range float values are not JSON compliant: nan\n",
      "Supporting this message is deprecated in jupyter-client 7, please make sure your message is JSON-compliant\n",
      "  content = self.pack(content)\n"
     ]
    }
   ],
   "source": [
    "# Create KeplerGl instance\n",
    "m = KeplerGl(height = 700, data={\"data_1\": df_final})"
   ]
  },
  {
   "cell_type": "code",
   "execution_count": 30,
   "id": "4a73180a-7085-408b-ad12-28fdad0b81ed",
   "metadata": {},
   "outputs": [],
   "source": [
    "config = m.config"
   ]
  },
  {
   "cell_type": "code",
   "execution_count": 31,
   "id": "914cad18-79de-4cdd-93e0-a166b897fef2",
   "metadata": {},
   "outputs": [
    {
     "data": {
      "text/plain": [
       "{}"
      ]
     },
     "execution_count": 31,
     "metadata": {},
     "output_type": "execute_result"
    }
   ],
   "source": [
    "config"
   ]
  },
  {
   "cell_type": "code",
   "execution_count": 32,
   "id": "2ea6943c-cd2a-4d2c-9be2-345cc36b4353",
   "metadata": {},
   "outputs": [
    {
     "name": "stdout",
     "output_type": "stream",
     "text": [
      "User Guide: https://docs.kepler.gl/docs/keplergl-jupyter\n"
     ]
    },
    {
     "name": "stderr",
     "output_type": "stream",
     "text": [
      "C:\\Users\\TOSIN\\anaconda3\\envs\\Chicago_CitiBike_Trips\\Lib\\site-packages\\keplergl\\keplergl.py:22: UserWarning: DataFrame columns are not unique, some columns will be omitted.\n",
      "  return df.to_dict('split')\n",
      "C:\\Users\\TOSIN\\AppData\\Roaming\\Python\\Python312\\site-packages\\jupyter_client\\session.py:721: UserWarning: Message serialization failed with:\n",
      "Out of range float values are not JSON compliant: nan\n",
      "Supporting this message is deprecated in jupyter-client 7, please make sure your message is JSON-compliant\n",
      "  content = self.pack(content)\n"
     ]
    },
    {
     "name": "stdout",
     "output_type": "stream",
     "text": [
      "Map saved to kepler_map.html!\n"
     ]
    },
    {
     "name": "stderr",
     "output_type": "stream",
     "text": [
      "IOPub data rate exceeded.\n",
      "The Jupyter server will temporarily stop sending output\n",
      "to the client in order to avoid crashing it.\n",
      "To change this limit, set the config variable\n",
      "`--ServerApp.iopub_data_rate_limit`.\n",
      "\n",
      "Current values:\n",
      "ServerApp.iopub_data_rate_limit=1000000.0 (bytes/sec)\n",
      "ServerApp.rate_limit_window=3.0 (secs)\n",
      "\n"
     ]
    },
    {
     "data": {
      "application/vnd.jupyter.widget-view+json": {
       "model_id": "7dae5e9f069e4151bfe88ebf075000f0",
       "version_major": 2,
       "version_minor": 0
      },
      "text/plain": [
       "KeplerGl(data={'Trips Data': {'index': [0, 1, 2, 3, 4, 5, 6, 7, 8, 9, 10, 11, 12, 13, 14, 15, 16, 17, 18, 19, …"
      ]
     },
     "execution_count": 32,
     "metadata": {},
     "output_type": "execute_result"
    }
   ],
   "source": [
    "# Initialize a Kepler.gl map\n",
    "map_1 = KeplerGl(height=600)\n",
    "\n",
    "# Add the DataFrame to the map\n",
    "map_1.add_data(data=df_final, name=\"Trips Data\")\n",
    "\n",
    "# Display the map\n",
    "map_1.save_to_html(file_name=\"kepler_map.html\")\n",
    "map_1"
   ]
  },
  {
   "cell_type": "markdown",
   "id": "e920fef6-0371-45f0-ba3e-df90fb5c3aed",
   "metadata": {},
   "source": [
    "### settings you changed and why\n",
    "- Arc Layer\n",
    "The Arc Layer is Perfect for representing connections between two locations (e.g., shipping routes, travel patterns). \n",
    "The arcs can visually display flow or connectivity.\n",
    "\n",
    "- Categorical Color\n",
    "The categorical color schemes. For representing quantities/number of trips, a sequential color scale (light to dark) helps show magnitude clearly."
   ]
  },
  {
   "cell_type": "markdown",
   "id": "5ef70ad4-ddfc-4782-95b6-e961355c582f",
   "metadata": {},
   "source": [
    "### particularly busy zone \n",
    "\n",
    "The city following have a very higher trips turnover compare to city parks \n",
    "\n",
    "- wicker park\n",
    "- West Town\n",
    "- Ukrainian Village\n",
    "\n"
   ]
  },
  {
   "cell_type": "code",
   "execution_count": null,
   "id": "3d9d5613-cd3a-425e-bd9d-ec3b36958ec2",
   "metadata": {},
   "outputs": [],
   "source": []
  }
 ],
 "metadata": {
  "kernelspec": {
   "display_name": "Python [conda env:Chicago_CitiBike_Trips]",
   "language": "python",
   "name": "conda-env-Chicago_CitiBike_Trips-py"
  },
  "language_info": {
   "codemirror_mode": {
    "name": "ipython",
    "version": 3
   },
   "file_extension": ".py",
   "mimetype": "text/x-python",
   "name": "python",
   "nbconvert_exporter": "python",
   "pygments_lexer": "ipython3",
   "version": "3.12.7"
  }
 },
 "nbformat": 4,
 "nbformat_minor": 5
}
